{
 "cells": [
  {
   "cell_type": "code",
   "execution_count": 1,
   "metadata": {},
   "outputs": [],
   "source": [
    "import matplotlib.pyplot as plt\n",
    "import pandas as pd\n",
    "import seaborn as sns\n",
    "from sklearn.neighbors import KNeighborsClassifier"
   ]
  },
  {
   "cell_type": "code",
   "execution_count": 2,
   "metadata": {},
   "outputs": [
    {
     "data": {
      "image/png": "[encoded data removed]",
      "text/plain": [
       "<Figure size 640x480 with 1 Axes>"
      ]
     },
     "metadata": {},
     "output_type": "display_data"
    }
   ],
   "source": [
    "#creamos datos de prueba y dos puntos nuevos (clientes) para visualizar todos los puntos\n",
    "#estos datos ene esta estapa se graficaran con colores.\n",
    "\n",
    "data = {'duracion': [50, 80, 90, 45, 60, 75],\n",
    "        'Edad': [48, 32, 35, 25, 18, 20],\n",
    "        'Genero': ['a', 'r', 'a', 'r', 'c','c']}\n",
    "\n",
    "#definimos dos puntos nuevos que se graficaran sin colores\n",
    "punto_nuevo1 = {'duracion': [120], 'Edad': [30]}\n",
    "punto_nuevo2 = {'duracion': [70], 'Edad': [38]}\n",
    "df = pd.DataFrame(data)\n",
    "punto_nuevo1 = pd.DataFrame(punto_nuevo1)\n",
    "punto_nuevo2 = pd.DataFrame(punto_nuevo2)\n",
    "\n",
    "# construimos nuestro grafico.\n",
    "ax = plt.axes()\n",
    "#etiqueta peliculas de accion\n",
    "ax.scatter(df.loc[df['Genero'] == 'a', 'duracion'],\n",
    "           df.loc[df['Genero'] == 'a', 'Edad'],\n",
    "           c=\"red\",\n",
    "           label=\"accion\")\n",
    "#etiqueta peliculas de romance\n",
    "ax.scatter(df.loc[df['Genero'] == 'r', 'duracion'],\n",
    "           df.loc[df['Genero'] == 'r', 'Edad'],\n",
    "           c=\"blue\",\n",
    "           label=\"romance\")\n",
    "#etiqueta peliculas de comedia\n",
    "ax.scatter(df.loc[df['Genero'] == 'c', 'duracion'],\n",
    "           df.loc[df['Genero'] == 'c', 'Edad'],\n",
    "           c=\"green\",\n",
    "           label=\"comedia\")\n",
    "# definimos que los puntos nuevos sean de color negro\n",
    "ax.scatter(punto_nuevo1['duracion'],\n",
    "           punto_nuevo1['Edad'],\n",
    "           c=\"black\")\n",
    "ax.scatter(punto_nuevo2['duracion'],\n",
    "           punto_nuevo2['Edad'],\n",
    "           c=\"black\")\n",
    "\n",
    "#Imprimimos el grafico de entrenamiento\n",
    "plt.xlabel(\"duracion\")\n",
    "plt.ylabel(\"Edad\")\n",
    "ax.legend()\n",
    "plt.show()"
   ]
  },
  {
   "cell_type": "code",
   "execution_count": 4,
   "metadata": {},
   "outputs": [
    {
     "name": "stdout",
     "output_type": "stream",
     "text": [
      "['cliente_nuevo1 clasificacion a']\n",
      "['cliente-nuevo2 clasificacion a']\n"
     ]
    }
   ],
   "source": [
    "from sklearn.neighbors import KNeighborsClassifier\n",
    "import warnings\n",
    "\n",
    "# Crea el clasificador KNN\n",
    "knn = KNeighborsClassifier(n_neighbors=3)\n",
    "\n",
    "# Prepara los datos de entrada y de salida\n",
    "X = df[['duracion', 'Edad']]\n",
    "Y = df['Genero'] \n",
    "\n",
    "# Entrenar el modelo\n",
    "knn.fit(X, Y)\n",
    "\n",
    "# Realizar predicciones\n",
    "prediccion_1 = knn.predict(punto_nuevo1)\n",
    "prediccion_2 = knn.predict(punto_nuevo2)\n",
    "\n",
    "print('cliente_nuevo_1 '+ 'clasificacion ' + prediccion_1)\n",
    "print('cliente-nuevo_2 '+ 'clasificacion ' + prediccion_2)\n"
   ]
  },
  {
   "cell_type": "code",
   "execution_count": null,
   "metadata": {},
   "outputs": [],
   "source": []
  }
 ],
 "metadata": {
  "kernelspec": {
   "display_name": "Python 3",
   "language": "python",
   "name": "python3"
  },
  "language_info": {
   "codemirror_mode": {
    "name": "ipython",
    "version": 3
   },
   "file_extension": ".py",
   "mimetype": "text/x-python",
   "name": "python",
   "nbconvert_exporter": "python",
   "pygments_lexer": "ipython3",
   "version": "3.9.2"
  }
 },
 "nbformat": 4,
 "nbformat_minor": 2
}
