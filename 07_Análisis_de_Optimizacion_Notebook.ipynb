{
 "cells": [
  {
   "cell_type": "code",
   "execution_count": 1,
   "metadata": {},
   "outputs": [
    {
     "name": "stdout",
     "output_type": "stream",
     "text": [
      " (x) 171.42857143\n",
      " (y) 102.85714287\n",
      " solucion: 3600.0000001500002\n"
     ]
    }
   ],
   "source": [
    "from gekko import GEKKO\n",
    "\n",
    "#definimos la funcion a optimizar y sus variables\n",
    "m = GEKKO()\n",
    "\n",
    "#variables\n",
    "x = m.Var()\n",
    "y = m.Var()\n",
    "\n",
    "#funcion objetivo\n",
    "m.Maximize(125*x+100*y)\n",
    "\n",
    "#restricciones\n",
    "m.Equation(0.75*x+0.5*y<=180)\n",
    "m.Equation(0.25*x+0.75*y<=120)\n",
    "m.solve(disp=False)\n",
    "\n",
    "#calculo de la solucion optima\n",
    "p1 = x.value[0]; p2=y.value[0]\n",
    "print (' (x) '+ str(p1))\n",
    "print (' (y) '+ str(p2))\n",
    "print (' solucion: '+ str(15*p1+10*p2)) "
   ]
  }
 ],
 "metadata": {
  "kernelspec": {
   "display_name": "Python 3",
   "language": "python",
   "name": "python3"
  },
  "language_info": {
   "codemirror_mode": {
    "name": "ipython",
    "version": 3
   },
   "file_extension": ".py",
   "mimetype": "text/x-python",
   "name": "python",
   "nbconvert_exporter": "python",
   "pygments_lexer": "ipython3",
   "version": "3.11.5"
  }
 },
 "nbformat": 4,
 "nbformat_minor": 2
}
